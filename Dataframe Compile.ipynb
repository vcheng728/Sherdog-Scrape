{
 "cells": [
  {
   "cell_type": "code",
   "execution_count": null,
   "metadata": {
    "collapsed": true
   },
   "outputs": [],
   "source": [
    "#compiling all the fighters profiles into one dataframe/csv \n",
    "\n",
    "import os\n",
    "import glob\n",
    "\n",
    "path = 'F:\\Documents\\GitHub\\Sherdog-Scrape'\n",
    "extension = 'csv'\n",
    "os.chdir(path)\n",
    "result = glob.glob('*.{}'.format(extension))\n",
    "\n",
    "\n",
    "lst = []\n",
    "for i in result:\n",
    "    m = i.replace(\" \",\"\")\n",
    "    n = m[:-4]\n",
    "    lst.append(n)\n",
    "\n",
    "dct = {}\n",
    "for i,j in zip(lst,result):\n",
    "    dct[i] = j\n",
    "    \n",
    "import pandas as pd\n",
    "\n",
    "leest = []\n",
    "for i,j in dct.items():\n",
    "    path = \".\\\\{}\".format(j)\n",
    "    leest.append(pd.read_csv(path))\n",
    "\n",
    "df = leest[0]\n",
    "\n",
    "for i in range(len(leest)):\n",
    "    df = df.append(leest[i])\n",
    "    \n",
    "df.to_csv(path_or_buf= \".\\\\LHW.csv\",index = False)"
   ]
  }
 ],
 "metadata": {
  "kernelspec": {
   "display_name": "Python 3",
   "language": "python",
   "name": "python3"
  },
  "language_info": {
   "codemirror_mode": {
    "name": "ipython",
    "version": 3
   },
   "file_extension": ".py",
   "mimetype": "text/x-python",
   "name": "python",
   "nbconvert_exporter": "python",
   "pygments_lexer": "ipython3",
   "version": "3.6.3"
  }
 },
 "nbformat": 4,
 "nbformat_minor": 2
}
