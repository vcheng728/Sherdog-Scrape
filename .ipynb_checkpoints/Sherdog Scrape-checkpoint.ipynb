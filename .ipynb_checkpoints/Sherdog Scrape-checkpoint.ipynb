{
 "cells": [
  {
   "cell_type": "code",
   "execution_count": 83,
   "metadata": {},
   "outputs": [
    {
     "name": "stderr",
     "output_type": "stream",
     "text": [
      "F:\\Programs\\Anaconda\\lib\\site-packages\\ipykernel_launcher.py:26: DeprecationWarning: MyOpener style of invoking requests is deprecated. Use newer urlopen functions/methods\n"
     ]
    }
   ],
   "source": [
    "import pandas as pd\n",
    "import numpy as np\n",
    "import matplotlib.pyplot as plt\n",
    "import seaborn as sns\n",
    "%matplotlib inline\n",
    "\n",
    "from urllib.request import urlopen\n",
    "from bs4 import BeautifulSoup\n",
    "from urllib.request import FancyURLopener\n",
    "\n",
    "# change fighter url \n",
    "# url = \"https://www.sherdog.com/events/UFC-Fight-Night-101-Whittaker-vs-Brunson-54995\"\n",
    "url = \"https://www.sherdog.com/fighter/Corey-Anderson-171723\"\n",
    "fighter = url[32:-6].replace(\"-\",\" \")\n",
    "\n",
    "# html = urlopen(url)\n",
    "class MyOpener(FancyURLopener):\n",
    "    version = 'My new User-Agent'\n",
    "\n",
    "# spoof as browser to access url     \n",
    "MyOpener.version\n",
    "class MyOpener(FancyURLopener):\n",
    "    version = 'Mozilla/5.0 (Windows; U; Windows NT 5.1; it; rv:1.8.1.11) Gecko/20071127 Firefox/2.0.0.11'    \n",
    "    \n",
    "# open url and parse with bs4     \n",
    "myopener = MyOpener()\n",
    "page = myopener.open(url)\n",
    "soup = BeautifulSoup(page, 'lxml')    \n",
    "text = soup.get_text()\n",
    "\n",
    "# find all table rows and assign to rows\n",
    "rows = soup.find_all('tr')\n",
    "\n",
    "str_cells = str(rows)\n",
    "cleantext = BeautifulSoup(str_cells, \"lxml\").get_text()\n",
    "    \n",
    "    \n",
    "import re\n",
    "\n",
    "# further parse with regex\n",
    "list_rows = []\n",
    "for row in rows:\n",
    "    cells = row.find_all('td')\n",
    "    str_cells = str(cells)\n",
    "    clean = re.compile('<.*?>')\n",
    "    clean2 = (re.sub(clean, '',str_cells))\n",
    "    list_rows.append(clean2)\n",
    "    \n",
    "# turn parsed text into df    \n",
    "df = pd.DataFrame(list_rows)    \n",
    "\n",
    "# delimit text and remove square brackets\n",
    "df1 = df[0].str.split(',', expand=True)\n",
    "df1[0] = df1[0].str.strip('[')\n",
    "df1[5] = df1[5].str.strip(']')\n",
    "# for i in range(0,2):\n",
    "#     if df1.iloc[i,0] == \"Result\":\n",
    "#         df1.columns = df1.iloc[i]\n",
    "#         break\n",
    "#     else: \n",
    "#         break\n",
    "#\n",
    "\n",
    "# temp fix for event name with comma , Glover\n",
    "#df1.iloc[29,2] = \"PFC 6 -No Retreat,No SurrenderJan / 17 / 2008\"\n",
    "# df1.iloc[29,3] = \"KO (Punches)N/A\"\n",
    "# df1.iloc[29,4] = 1\n",
    "# df1.iloc[29,5] = \"0:05\"\n",
    "# df1 = df1.drop(6,axis = 1 )\n",
    "\n",
    "#Corey Anderson\n",
    "# df1.iloc[18,2] = \"UFC - The Ultimate Fighter Season 19 Semifinals Day 1Nov / 21 / 2013\"\n",
    "# df1.iloc[18,3] = \"Decision (Unanimous)Chris Tognoni\"\n",
    "# df1.iloc[18,4] = 3\n",
    "# df1.iloc[18,5] = \"5:00\"\n",
    "\n",
    "# df1.iloc[19,2] = \"UFC - The Ultimate Fighter Season 19 Quarterfinals Day 4Nov / 05 / 2013\"\n",
    "# df1.iloc[19,3] = \"Decision (Unanimous)Chris Tognoni\"\n",
    "# df1.iloc[19,4] = 2\n",
    "# df1.iloc[19,5] = \"5:00\"\n",
    "\n",
    "df1 = df1.drop(6,axis = 1)\n",
    "\n",
    "\n",
    "df2 = df1.loc[df1[0].isin(['win','loss','NC',\"Result\"])]     \n",
    "df2.columns = df2.iloc[0]\n",
    "df2 = df2.reset_index(drop = True)\n",
    "df2 = df2.drop(0,axis=0)\n",
    "cols=list(df2.columns)\n",
    "\n",
    "# split out method and referee into 3 columns\n",
    "\n",
    "df2[cols[3]] = df2[cols[3]].str.replace(')', '))')\n",
    "methref = df2[cols[3]].str.rsplit(')', expand=True, n=1)\n",
    "methref.columns = ['method','Referee']\n",
    "fin = methref['method'].str.split('(',expand = True)\n",
    "fin[1] = fin[1].str.strip(')')\n",
    "fin.columns = ['Method','Finish']\n",
    "\n",
    "# split up event and date\n",
    "\n",
    "ev = df2[cols[2]].str.rsplit('/', expand=True,n=2)\n",
    "ev['mth'] = ev[0].str[-4:]\n",
    "ev[0] = ev[0].str[:-4]\n",
    "\n",
    "#rearranging column order\n",
    "ev.columns = ['Event','Day','Year','Month']\n",
    "ev = ev[['Event','Month','Day','Year']]\n",
    "\n",
    "#join all 4 tables together dropping excess event and method/referee columns that have been cleaned \n",
    "newtbl = pd.concat([df2.drop([cols[2], cols[3]],axis = 1) ,ev,fin,methref['Referee']],axis = 1)\n",
    "\n",
    "newtbl['Fighter1'] = fighter \n",
    "a =list(newtbl.columns)\n",
    "a = a[-1:] + a[:-1]\n",
    "newtbl = newtbl[a]\n",
    "newtbl.columns = ['Fighter',\n",
    " 'Result',\n",
    " ' Opponent',\n",
    " ' R',\n",
    " ' Time',\n",
    " 'Event',\n",
    " 'Month',\n",
    " 'Day',\n",
    " 'Year',\n",
    " 'Method',\n",
    " 'Finish',\n",
    " 'Referee']\n",
    "newtbl\n",
    "\n",
    "def removedash(x):\n",
    "    return x.replace(\"-\",\" \")\n",
    "    \n",
    "newtbl['Fighter'] = newtbl['Fighter'].apply(lambda x:removedash(x))\n",
    "\n",
    "\n",
    "# create fighter-name.csv\n",
    "csvname = '.\\\\{}.csv'.format(fighter)\n",
    "newtbl.to_csv(path_or_buf = csvname,index = False)\n",
    "\n"
   ]
  },
  {
   "cell_type": "code",
   "execution_count": 28,
   "metadata": {},
   "outputs": [
    {
     "name": "stdout",
     "output_type": "stream",
     "text": [
      "['Aleksandar Rakic.csv', 'Alexander Gustafsson.csv', 'Anthony Smith.csv', 'Corey Anderson .csv', 'Daniel Cormier.csv', 'Dominick Reyes .csv', 'Glover Teixeir.csv', 'Ilir Latifi.csv', 'Jan Blachowicz.csv', 'Jon Jones.csv', 'Mauricio Ru.csv', 'Misha Cirkunov.csv', 'Nikita Krylov .csv', 'Thiago Santos.csv', 'Volkan Oezdemir.csv']\n"
     ]
    }
   ],
   "source": [
    "import os\n",
    "import glob\n",
    "\n",
    "path = 'F:\\Documents\\GitHub\\Sherdog-Scrape'\n",
    "extension = 'csv'\n",
    "os.chdir(path)\n",
    "result = glob.glob('*.{}'.format(extension))\n",
    "print(result)"
   ]
  },
  {
   "cell_type": "code",
   "execution_count": 29,
   "metadata": {},
   "outputs": [],
   "source": [
    "lst = []\n",
    "for i in result:\n",
    "    m = i.replace(\" \",\"\")\n",
    "    n = m[:-4]\n",
    "    lst.append(n)\n"
   ]
  },
  {
   "cell_type": "code",
   "execution_count": 30,
   "metadata": {},
   "outputs": [],
   "source": [
    "dct = {}\n",
    "for i,j in zip(lst,result):\n",
    "    dct[i] = j"
   ]
  },
  {
   "cell_type": "code",
   "execution_count": 31,
   "metadata": {},
   "outputs": [],
   "source": [
    "import pandas as pd\n",
    "\n",
    "leest = []\n",
    "for i,j in dct.items():\n",
    "    path = \".\\\\{}\".format(j)\n",
    "    leest.append(pd.read_csv(path))\n",
    "    "
   ]
  },
  {
   "cell_type": "code",
   "execution_count": 32,
   "metadata": {},
   "outputs": [],
   "source": [
    "df = leest[0]\n",
    "\n",
    "for i in range(len(leest)):\n",
    "    df = df.append(leest[i])\n"
   ]
  },
  {
   "cell_type": "code",
   "execution_count": 34,
   "metadata": {},
   "outputs": [
    {
     "ename": "PermissionError",
     "evalue": "[Errno 13] Permission denied: 'F:\\\\Documents\\\\GitHub\\\\Sherdog-Scrape'",
     "output_type": "error",
     "traceback": [
      "\u001b[1;31m---------------------------------------------------------------------------\u001b[0m",
      "\u001b[1;31mPermissionError\u001b[0m                           Traceback (most recent call last)",
      "\u001b[1;32m<ipython-input-34-2632cb12488d>\u001b[0m in \u001b[0;36m<module>\u001b[1;34m()\u001b[0m\n\u001b[1;32m----> 1\u001b[1;33m \u001b[0mdf\u001b[0m\u001b[1;33m.\u001b[0m\u001b[0mto_csv\u001b[0m\u001b[1;33m(\u001b[0m\u001b[0mpath_or_buf\u001b[0m\u001b[1;33m=\u001b[0m \u001b[1;34m\"F:\\Documents\\GitHub\\Sherdog-Scrape\"\u001b[0m\u001b[1;33m)\u001b[0m\u001b[1;33m\u001b[0m\u001b[0m\n\u001b[0m",
      "\u001b[1;32mF:\\Programs\\Anaconda\\lib\\site-packages\\pandas\\core\\generic.py\u001b[0m in \u001b[0;36mto_csv\u001b[1;34m(self, path_or_buf, sep, na_rep, float_format, columns, header, index, index_label, mode, encoding, compression, quoting, quotechar, line_terminator, chunksize, tupleize_cols, date_format, doublequote, escapechar, decimal)\u001b[0m\n\u001b[0;32m   3018\u001b[0m                                  \u001b[0mdoublequote\u001b[0m\u001b[1;33m=\u001b[0m\u001b[0mdoublequote\u001b[0m\u001b[1;33m,\u001b[0m\u001b[1;33m\u001b[0m\u001b[0m\n\u001b[0;32m   3019\u001b[0m                                  escapechar=escapechar, decimal=decimal)\n\u001b[1;32m-> 3020\u001b[1;33m         \u001b[0mformatter\u001b[0m\u001b[1;33m.\u001b[0m\u001b[0msave\u001b[0m\u001b[1;33m(\u001b[0m\u001b[1;33m)\u001b[0m\u001b[1;33m\u001b[0m\u001b[0m\n\u001b[0m\u001b[0;32m   3021\u001b[0m \u001b[1;33m\u001b[0m\u001b[0m\n\u001b[0;32m   3022\u001b[0m         \u001b[1;32mif\u001b[0m \u001b[0mpath_or_buf\u001b[0m \u001b[1;32mis\u001b[0m \u001b[1;32mNone\u001b[0m\u001b[1;33m:\u001b[0m\u001b[1;33m\u001b[0m\u001b[0m\n",
      "\u001b[1;32mF:\\Programs\\Anaconda\\lib\\site-packages\\pandas\\io\\formats\\csvs.py\u001b[0m in \u001b[0;36msave\u001b[1;34m(self)\u001b[0m\n\u001b[0;32m    155\u001b[0m             f, handles = _get_handle(self.path_or_buf, self.mode,\n\u001b[0;32m    156\u001b[0m                                      \u001b[0mencoding\u001b[0m\u001b[1;33m=\u001b[0m\u001b[0mself\u001b[0m\u001b[1;33m.\u001b[0m\u001b[0mencoding\u001b[0m\u001b[1;33m,\u001b[0m\u001b[1;33m\u001b[0m\u001b[0m\n\u001b[1;32m--> 157\u001b[1;33m                                      compression=self.compression)\n\u001b[0m\u001b[0;32m    158\u001b[0m             \u001b[0mclose\u001b[0m \u001b[1;33m=\u001b[0m \u001b[1;32mTrue\u001b[0m\u001b[1;33m\u001b[0m\u001b[0m\n\u001b[0;32m    159\u001b[0m \u001b[1;33m\u001b[0m\u001b[0m\n",
      "\u001b[1;32mF:\\Programs\\Anaconda\\lib\\site-packages\\pandas\\io\\common.py\u001b[0m in \u001b[0;36m_get_handle\u001b[1;34m(path_or_buf, mode, encoding, compression, memory_map, is_text)\u001b[0m\n\u001b[0;32m    422\u001b[0m         \u001b[1;32melif\u001b[0m \u001b[0mencoding\u001b[0m\u001b[1;33m:\u001b[0m\u001b[1;33m\u001b[0m\u001b[0m\n\u001b[0;32m    423\u001b[0m             \u001b[1;31m# Python 3 and encoding\u001b[0m\u001b[1;33m\u001b[0m\u001b[1;33m\u001b[0m\u001b[0m\n\u001b[1;32m--> 424\u001b[1;33m             \u001b[0mf\u001b[0m \u001b[1;33m=\u001b[0m \u001b[0mopen\u001b[0m\u001b[1;33m(\u001b[0m\u001b[0mpath_or_buf\u001b[0m\u001b[1;33m,\u001b[0m \u001b[0mmode\u001b[0m\u001b[1;33m,\u001b[0m \u001b[0mencoding\u001b[0m\u001b[1;33m=\u001b[0m\u001b[0mencoding\u001b[0m\u001b[1;33m,\u001b[0m \u001b[0mnewline\u001b[0m\u001b[1;33m=\u001b[0m\u001b[1;34m\"\"\u001b[0m\u001b[1;33m)\u001b[0m\u001b[1;33m\u001b[0m\u001b[0m\n\u001b[0m\u001b[0;32m    425\u001b[0m         \u001b[1;32melif\u001b[0m \u001b[0mis_text\u001b[0m\u001b[1;33m:\u001b[0m\u001b[1;33m\u001b[0m\u001b[0m\n\u001b[0;32m    426\u001b[0m             \u001b[1;31m# Python 3 and no explicit encoding\u001b[0m\u001b[1;33m\u001b[0m\u001b[1;33m\u001b[0m\u001b[0m\n",
      "\u001b[1;31mPermissionError\u001b[0m: [Errno 13] Permission denied: 'F:\\\\Documents\\\\GitHub\\\\Sherdog-Scrape'"
     ]
    }
   ],
   "source": [
    "df.to_csv(path_or_buf= \"F:\\Documents\\GitHub\\Sherdog-Scrape\")"
   ]
  },
  {
   "cell_type": "code",
   "execution_count": null,
   "metadata": {},
   "outputs": [],
   "source": []
  },
  {
   "cell_type": "code",
   "execution_count": null,
   "metadata": {
    "collapsed": true
   },
   "outputs": [],
   "source": []
  }
 ],
 "metadata": {
  "kernelspec": {
   "display_name": "Python 3",
   "language": "python",
   "name": "python3"
  },
  "language_info": {
   "codemirror_mode": {
    "name": "ipython",
    "version": 3
   },
   "file_extension": ".py",
   "mimetype": "text/x-python",
   "name": "python",
   "nbconvert_exporter": "python",
   "pygments_lexer": "ipython3",
   "version": "3.6.3"
  }
 },
 "nbformat": 4,
 "nbformat_minor": 2
}
